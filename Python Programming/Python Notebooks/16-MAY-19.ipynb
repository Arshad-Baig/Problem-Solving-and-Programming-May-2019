{
 "cells": [
  {
   "cell_type": "markdown",
   "metadata": {},
   "source": [
    "## Problem Solving and Programing\n",
    "\n",
    "### Arshad\n",
    "### Day 18\n",
    "### Date : 16-MAY-2019"
   ]
  },
  {
   "cell_type": "markdown",
   "metadata": {},
   "source": [
    "###Day Outcomes\n",
    "1. "
   ]
  },
  {
   "cell_type": "markdown",
   "metadata": {},
   "source": [
    "### Problem 1\n",
    "\n",
    "#### Problem Statement:\n",
    "Python Program to read data from a text file"
   ]
  },
  {
   "cell_type": "code",
   "execution_count": 14,
   "metadata": {},
   "outputs": [
    {
     "data": {
      "text/plain": [
       "'Data in line 1\\nData in line 2\\nData in line 3'"
      ]
     },
     "execution_count": 14,
     "metadata": {},
     "output_type": "execute_result"
    }
   ],
   "source": [
    "def readFileData(filename):\n",
    "    f=open(filename,'r')  # First open the file # r stands for only read permissions\n",
    "    #filedata=f.readline()\n",
    "    filedata=f.read()\n",
    "    f.close()           #Close the file finally\n",
    "    return filedata\n",
    "    #return filedata2\n",
    "readFileData('DataFiles/data.txt')"
   ]
  },
  {
   "cell_type": "code",
   "execution_count": 17,
   "metadata": {},
   "outputs": [
    {
     "data": {
      "text/plain": [
       "'Data in line 1\\nData in line 2\\nData in line 3'"
      ]
     },
     "execution_count": 17,
     "metadata": {},
     "output_type": "execute_result"
    }
   ],
   "source": [
    "def readFileData(filename):\n",
    "    with open(filename,'r') as f: # with is used to close the file so that we dont need to close it manually\n",
    "\n",
    "        filedata=f.read()\n",
    "        return filedata\n",
    "readFileData('DataFiles/data.txt')"
   ]
  },
  {
   "cell_type": "code",
   "execution_count": 19,
   "metadata": {},
   "outputs": [
    {
     "name": "stdout",
     "output_type": "stream",
     "text": [
      "Data in line 1\n",
      " Data in line 2\n",
      " Data in line 3 "
     ]
    }
   ],
   "source": [
    "def readFileData(filename):\n",
    "    with open(filename,'r') as f:\n",
    "        for line in f:                    #To eliminate \\n'\n",
    "            print(line,end = ' ')\n",
    "\n",
    "        return \n",
    "readFileData('DataFiles/data.txt')"
   ]
  },
  {
   "cell_type": "code",
   "execution_count": 24,
   "metadata": {},
   "outputs": [
    {
     "name": "stdout",
     "output_type": "stream",
     "text": [
      "Data in line 1\n",
      "Data in line 2\n",
      "Data in line 3\n"
     ]
    }
   ],
   "source": [
    "def readFileData(filename):\n",
    "    with open(filename,'r') as f:\n",
    "        print(f.read())                  #To avoid usage of for loop\n",
    "\n",
    "    return \n",
    "readFileData('DataFiles/data.txt')"
   ]
  },
  {
   "cell_type": "code",
   "execution_count": 31,
   "metadata": {},
   "outputs": [],
   "source": [
    "def writeIntoFile(filename,data):\n",
    "    with open(filename,'w') as f: # w is used to write      # 'a' can be used to append to existing data\n",
    "        f.write(data)\n",
    "    return\n",
    "writeIntoFile('DataFiles/fileWrite.txt','First Written Line')"
   ]
  },
  {
   "cell_type": "markdown",
   "metadata": {},
   "source": [
    "### Appending to the above File"
   ]
  },
  {
   "cell_type": "code",
   "execution_count": 36,
   "metadata": {},
   "outputs": [],
   "source": [
    "def writeIntoFile(filename,data,mode):\n",
    "    with open(filename,mode) as f: # w is used to write      # 'a' can be used to append to existing data\n",
    "        f.write(data)\n",
    "    return\n",
    "writeIntoFile('DataFiles/fileWrite.txt','Fourth Appended Line \\n','a')"
   ]
  },
  {
   "cell_type": "markdown",
   "metadata": {},
   "source": [
    "### Problem 2\n",
    "\n",
    "#### Problem Statement:\n",
    "Define a function to generate a Marks Data File (txt) for 1300 students such that each mark is entered in a new line.\n",
    "Marks range from 0 to 100 (inclusive)\n",
    "Marks are random numbers"
   ]
  },
  {
   "cell_type": "code",
   "execution_count": 97,
   "metadata": {},
   "outputs": [],
   "source": [
    "import random\n",
    "def writeMarksIntoFile(filename,n):\n",
    "    with open(filename,'w') as marksFile:\n",
    "        for i in range(0,n):\n",
    "            marks=random.randint(0,100)\n",
    "            marksFile.write(str(marks)+'\\n')\n",
    "    return\n",
    "#def printing():\n",
    "#    for i in range(0,1301):\n",
    "#        print(random.randrange(0,101))\n",
    "#        print(end='\\n')\n",
    "writeMarksIntoFile('DataFiles/Marks.txt',1300)"
   ]
  },
  {
   "cell_type": "markdown",
   "metadata": {},
   "source": [
    "### Problem 3\n",
    "\n",
    "#### Problem Statement:\n",
    "Generate a report (txt file) about the marks data above problem,with the following indicators\n",
    "* Highest Marks:\n",
    "* Lowest Marks:\n",
    "* Average Marks:\n",
    "* No.of students with distinction  (>80) :\n",
    "* No.of students with First Class  (>60) :\n",
    "* No.of students with Second Class (>50) : \n",
    "* No.of students with Third Class :(>40) :\n",
    "* No.of Students Failed            (<40) :"
   ]
  },
  {
   "cell_type": "code",
   "execution_count": 101,
   "metadata": {},
   "outputs": [],
   "source": [
    "import random\n",
    "def readMarksFromFile(filename):\n",
    "    marks_li=[]\n",
    "    with open(filename,'r') as f:\n",
    "        for x in f:                 #this takes in element instead of index\n",
    "            marks_li.append(int(x))\n",
    "    writeMarksIntoFile('DataFiles/reportFile.txt',marks_li)\n",
    "    \n",
    "def writeMarksIntoFile(filename,arr):\n",
    "    dist=0\n",
    "    first=0\n",
    "    second=0\n",
    "    third=0\n",
    "    fail=0\n",
    "    with open(filename,'w') as reportFile:\n",
    "        reportFile.write(\"Highest is: \"+str(max(arr))+'\\n')\n",
    "        reportFile.write(\"Lowest is: \"+str(min(arr))+'\\n')\n",
    "        reportFile.write(\"Average is: \"+str(sum(arr)//len(arr))+'\\n')\n",
    "        for i in range(0,len(arr)):\n",
    "            if(arr[i]>=80):\n",
    "                dist=dist+1\n",
    "            elif(arr[i]>=60 and arr[i]<80):\n",
    "                first=first+1\n",
    "            elif(arr[i]>=50 and arr[i]<60):\n",
    "                second=second+1\n",
    "            elif(arr[i]>=40 and arr[i]<50):\n",
    "                third=third+1\n",
    "            else:\n",
    "                fail=fail+1      \n",
    "        reportFile.write(\"Distinction: \"+str(dist)+'\\n')\n",
    "        reportFile.write(\"First Class: \"+str(first)+'\\n')\n",
    "        reportFile.write(\"Second Class: \"+str(second)+'\\n')\n",
    "        reportFile.write(\"Third Class: \"+str(third)+'\\n')\n",
    "        reportFile.write(\"Failed: \"+str(fail)+'\\n')\n",
    "    return\n",
    "readMarksFromFile('DataFiles/Marks.txt')"
   ]
  },
  {
   "cell_type": "markdown",
   "metadata": {},
   "source": [
    "## Practicing Map Function"
   ]
  },
  {
   "cell_type": "code",
   "execution_count": 106,
   "metadata": {},
   "outputs": [
    {
     "data": {
      "text/plain": [
       "'1'"
      ]
     },
     "execution_count": 106,
     "metadata": {},
     "output_type": "execute_result"
    }
   ],
   "source": [
    "\n",
    "li=[1,2,3,4,5,6]\n",
    "s=str(li)\n",
    "s[0]\n",
    "\n",
    "s=list(map(str,li)) # Map takes 2 parameters\n",
    "                    # Map takes each element in 'li' and converts them to 'str' format\n",
    "                    # str denotes that li is converted to string\n",
    "                    # list denotes that all\n",
    "\n",
    "s[0]"
   ]
  },
  {
   "cell_type": "code",
   "execution_count": 114,
   "metadata": {},
   "outputs": [
    {
     "name": "stdout",
     "output_type": "stream",
     "text": [
      "7.490000098187011e-05\n"
     ]
    },
    {
     "data": {
      "text/plain": [
       "[1, 4, 9, 16, 25, 36]"
      ]
     },
     "execution_count": 114,
     "metadata": {},
     "output_type": "execute_result"
    }
   ],
   "source": [
    "li=[1,2,3,4,5,6]\n",
    "def square(n):\n",
    "    return n*n\n",
    "s=list(map(square,li))   # converting element of li into square and make it a list\n",
    "s"
   ]
  },
  {
   "cell_type": "markdown",
   "metadata": {},
   "source": [
    "## Timer Example"
   ]
  },
  {
   "cell_type": "code",
   "execution_count": 139,
   "metadata": {},
   "outputs": [
    {
     "name": "stdout",
     "output_type": "stream",
     "text": [
      "7.569999979750719e-05\n"
     ]
    },
    {
     "data": {
      "text/plain": [
       "[1.0, 2.0, 3.0, 4.0, 5.0, 6.0]"
      ]
     },
     "execution_count": 139,
     "metadata": {},
     "output_type": "execute_result"
    }
   ],
   "source": [
    "import timeit\n",
    "start=timeit.default_timer()\n",
    "li=[1,2,3,4,5,6]\n",
    "s=list(map(str,li))\n",
    "s=[float(i) for i in s]\n",
    "print(timeit.default_timer()-start)\n",
    "s"
   ]
  },
  {
   "cell_type": "markdown",
   "metadata": {},
   "source": []
  },
  {
   "cell_type": "code",
   "execution_count": 152,
   "metadata": {},
   "outputs": [
    {
     "data": {
      "text/plain": [
       "8"
      ]
     },
     "execution_count": 152,
     "metadata": {},
     "output_type": "execute_result"
    }
   ],
   "source": [
    "li=[1,2,3,4,5,6,7,8,9,85,86,95,100]\n",
    "def distinction(mark):\n",
    "    return mark>=80\n",
    "dis=sum(map(distinction,li))\n",
    "dis\n",
    "dis=sum([2 for i in li if i>80])\n",
    "dis"
   ]
  },
  {
   "cell_type": "markdown",
   "metadata": {},
   "source": [
    "## External Libraries Practice"
   ]
  },
  {
   "cell_type": "code",
   "execution_count": 10,
   "metadata": {},
   "outputs": [
    {
     "name": "stdout",
     "output_type": "stream",
     "text": [
      "[[1 2 3]\n",
      " [4 5 6]\n",
      " [7 8 9]]\n"
     ]
    },
    {
     "data": {
      "text/plain": [
       "numpy.ndarray"
      ]
     },
     "execution_count": 10,
     "metadata": {},
     "output_type": "execute_result"
    }
   ],
   "source": [
    "import numpy as np\n",
    "a=np.array([[1,2,3],[4,5,6],[7,8,9,]])\n",
    "\n",
    "print(a)\n",
    "type(a)"
   ]
  },
  {
   "cell_type": "code",
   "execution_count": null,
   "metadata": {},
   "outputs": [],
   "source": []
  }
 ],
 "metadata": {
  "kernelspec": {
   "display_name": "Python 3",
   "language": "python",
   "name": "python3"
  },
  "language_info": {
   "codemirror_mode": {
    "name": "ipython",
    "version": 3
   },
   "file_extension": ".py",
   "mimetype": "text/x-python",
   "name": "python",
   "nbconvert_exporter": "python",
   "pygments_lexer": "ipython3",
   "version": "3.7.3"
  }
 },
 "nbformat": 4,
 "nbformat_minor": 2
}
