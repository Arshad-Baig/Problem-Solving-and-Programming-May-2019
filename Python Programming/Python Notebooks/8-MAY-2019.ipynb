{
 "cells": [
  {
   "cell_type": "markdown",
   "metadata": {},
   "source": [
    "##Simple Hello World"
   ]
  },
  {
   "cell_type": "code",
   "execution_count": null,
   "metadata": {},
   "outputs": [],
   "source": [
    "print(\"Hello\")"
   ]
  },
  {
   "cell_type": "markdown",
   "metadata": {},
   "source": [
    "##List Operations"
   ]
  },
  {
   "cell_type": "code",
   "execution_count": 109,
   "metadata": {},
   "outputs": [
    {
     "data": {
      "text/plain": [
       "[[1, 3, 4, 4, 4, 6, 6, 7, 8]]"
      ]
     },
     "execution_count": 109,
     "metadata": {},
     "output_type": "execute_result"
    }
   ],
   "source": [
    "li=[[1,2,3],[3,4,5],[6,7,8]]\n",
    "li[2][1]\n",
    "li.insert(3,[9,0])\n",
    "li[3]\n",
    "li\n",
    "li.remove([9,0])\n",
    "li[2][1]\n",
    "li\n",
    "li.append([9,0])\n",
    "li\n",
    "li.pop()\n",
    "li\n",
    "li.pop(1)\n",
    "li\n",
    "li.insert(1,[3,4,5])\n",
    "li[2].pop(2)\n",
    "li[2].insert(2,8)\n",
    "li\n",
    "#sorting\n",
    "\n",
    "li2=[1,4,6,7,4,3,4,6,8]\n",
    "li2.sort()\n",
    "li3=[]\n",
    "li3.append(li2)\n",
    "li3"
   ]
  },
  {
   "cell_type": "markdown",
   "metadata": {},
   "source": [
    "##Using For Loop"
   ]
  },
  {
   "cell_type": "code",
   "execution_count": 103,
   "metadata": {},
   "outputs": [
    {
     "name": "stdout",
     "output_type": "stream",
     "text": [
      "123345678"
     ]
    }
   ],
   "source": [
    "for i in range(0,len(li)):\n",
    "    for j in range(0,len(li[i])):\n",
    "        print(li[i][j], end='')\n",
    "            \n"
   ]
  },
  {
   "cell_type": "markdown",
   "metadata": {},
   "source": [
    "##Accessing Middle Elements in a Tuple"
   ]
  },
  {
   "cell_type": "code",
   "execution_count": 110,
   "metadata": {},
   "outputs": [
    {
     "data": {
      "text/plain": [
       "'2 4 6'"
      ]
     },
     "execution_count": 110,
     "metadata": {},
     "output_type": "execute_result"
    }
   ],
   "source": [
    "t1=(123,345,567)\n",
    "str(t1[0])[1] + \" \" + str(t1[1])[1] + \" \" + str(t1[2])[1]\n"
   ]
  },
  {
   "cell_type": "markdown",
   "metadata": {},
   "source": [
    "##Printing all the elements of the list in reverse"
   ]
  },
  {
   "cell_type": "code",
   "execution_count": 111,
   "metadata": {},
   "outputs": [
    {
     "name": "stdout",
     "output_type": "stream",
     "text": [
      "321\n",
      "543\n",
      "765\n"
     ]
    }
   ],
   "source": [
    "str(t1[0])[2::-1]+str(t1[1])[2::-1]+str(t1[2])[2::-1]\n",
    "\n",
    "for i in range (0,3):\n",
    "    print(str(t1[i])[2::-1])\n",
    "    "
   ]
  },
  {
   "cell_type": "markdown",
   "metadata": {},
   "source": [
    "##Taking Inputs from user"
   ]
  },
  {
   "cell_type": "code",
   "execution_count": null,
   "metadata": {},
   "outputs": [],
   "source": [
    "str1=input(\"Enter a string:\")\n",
    "print(str1)"
   ]
  },
  {
   "cell_type": "markdown",
   "metadata": {},
   "source": [
    "##Dictionaries"
   ]
  },
  {
   "cell_type": "code",
   "execution_count": null,
   "metadata": {},
   "outputs": [],
   "source": [
    "d1={'procedural':'c','scripting':'python'}\n",
    "d1['scripting']\n",
    "d1.values()\n",
    "d1.keys()\n",
    "d2={'symbolic':'mathematical'} #Adding a new element to\n",
    "d1.update(d2) #By using merging two dictionaries\n"
   ]
  },
  {
   "cell_type": "code",
   "execution_count": 105,
   "metadata": {},
   "outputs": [
    {
     "name": "stdout",
     "output_type": "stream",
     "text": [
      "dict_keys(['CSE', 'ECE', 'EEE', 'CIVIL'])\n",
      "dict_values(['700', '500', '300', '100'])\n"
     ]
    }
   ],
   "source": [
    "d3={'CSE':'700','ECE':'500','EEE':'300','CIVIL':'100'}\n",
    "\n",
    "d3.values()\n",
    "print(d3.keys())\n",
    "print(d3.values())\n"
   ]
  },
  {
   "cell_type": "markdown",
   "metadata": {},
   "source": []
  }
 ],
 "metadata": {
  "kernelspec": {
   "display_name": "Python 3",
   "language": "python",
   "name": "python3"
  },
  "language_info": {
   "codemirror_mode": {
    "name": "ipython",
    "version": 3
   },
   "file_extension": ".py",
   "mimetype": "text/x-python",
   "name": "python",
   "nbconvert_exporter": "python",
   "pygments_lexer": "ipython3",
   "version": "3.7.3"
  }
 },
 "nbformat": 4,
 "nbformat_minor": 2
}
