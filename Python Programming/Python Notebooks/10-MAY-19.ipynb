{
 "cells": [
  {
   "cell_type": "markdown",
   "metadata": {},
   "source": [
    "##Problem Solving and Programing\n",
    "\n",
    "###Arshad\n",
    "\n",
    "###Day 12\n",
    "\n",
    "###Date : 10-MAY-2019"
   ]
  },
  {
   "cell_type": "markdown",
   "metadata": {},
   "source": [
    "###Day Outcomes:\n",
    "1. Completing Day 5 Programs\n",
    "2. Applying Recursion Concept to the programs"
   ]
  },
  {
   "cell_type": "markdown",
   "metadata": {},
   "source": [
    "###Problem 1\n",
    "\n",
    "####Problem Statement:\n",
    "Procedure to check if a given number is Prime and returns a Boolean value.\n",
    "\n",
    "####Test Cases:\n",
    "* IsPrime(7) -> True\n",
    "* IsPrime(9) -> False"
   ]
  },
  {
   "cell_type": "code",
   "execution_count": 27,
   "metadata": {},
   "outputs": [
    {
     "name": "stdout",
     "output_type": "stream",
     "text": [
      "True\n",
      "False\n"
     ]
    }
   ],
   "source": [
    "def IsPrime(n):\n",
    "    flag=0\n",
    "    for i in range(2,n):\n",
    "        if(n%i==0):\n",
    "            flag=flag+1\n",
    "    if(flag==0):\n",
    "        return True\n",
    "    else:\n",
    "        return False\n",
    "print(IsPrime(7))\n",
    "print(IsPrime(9))"
   ]
  },
  {
   "cell_type": "markdown",
   "metadata": {},
   "source": [
    "####Alternate Method for Prime Numbers using inbuilt Libraries"
   ]
  },
  {
   "cell_type": "code",
   "execution_count": 26,
   "metadata": {},
   "outputs": [
    {
     "name": "stdout",
     "output_type": "stream",
     "text": [
      "True\n",
      "False\n",
      "False\n"
     ]
    }
   ],
   "source": [
    "import sympy\n",
    "print(sympy.isprime(7))\n",
    "print(sympy.isprime(9))\n",
    "print(sympy.isprime(20))"
   ]
  },
  {
   "cell_type": "code",
   "execution_count": 29,
   "metadata": {},
   "outputs": [
    {
     "name": "stdout",
     "output_type": "stream",
     "text": [
      "1234\n"
     ]
    }
   ],
   "source": [
    "def count(n):\n",
    "    if(n==0):\n",
    "        return 1\n",
    "    flag"
   ]
  },
  {
   "cell_type": "markdown",
   "metadata": {},
   "source": [
    "##Recursion Problems"
   ]
  },
  {
   "cell_type": "markdown",
   "metadata": {},
   "source": [
    "####Problem 2:\n",
    "\n",
    "####Problem Statement:\n",
    "Calculating Power of a number by using both iterative and Recursive Approach\n",
    "\n",
    "####Test Cases:\n",
    "* power(2,10) -> 1024\n",
    "* recursivePower(2,10) -> 1024"
   ]
  },
  {
   "cell_type": "code",
   "execution_count": 33,
   "metadata": {},
   "outputs": [
    {
     "data": {
      "text/plain": [
       "1024"
      ]
     },
     "execution_count": 33,
     "metadata": {},
     "output_type": "execute_result"
    }
   ],
   "source": [
    "def power(n,r):\n",
    "    prod=1\n",
    "    for i in range(1,r+1):\n",
    "        prod*=n\n",
    "    return prod\n",
    "power(2,10)"
   ]
  },
  {
   "cell_type": "code",
   "execution_count": 32,
   "metadata": {},
   "outputs": [
    {
     "data": {
      "text/plain": [
       "1024"
      ]
     },
     "execution_count": 32,
     "metadata": {},
     "output_type": "execute_result"
    }
   ],
   "source": [
    "def recursivePower(n,r):\n",
    "    if r==1:\n",
    "        return n\n",
    "    else:\n",
    "        return recursivePower(n,r-1)*n\n",
    "recursivePower(2,10)"
   ]
  },
  {
   "cell_type": "markdown",
   "metadata": {},
   "source": [
    "####Problem 3:\n",
    "\n",
    "###### Problem Statement:\n",
    "Calculating the factorial of given number in Recursive method\n",
    "\n",
    "####Test Cases:\n",
    "* recursiveFact(6) -> 720"
   ]
  },
  {
   "cell_type": "code",
   "execution_count": 54,
   "metadata": {},
   "outputs": [
    {
     "data": {
      "text/plain": [
       "720"
      ]
     },
     "execution_count": 54,
     "metadata": {},
     "output_type": "execute_result"
    }
   ],
   "source": [
    "def recursiveFact(n):\n",
    "    if(n==0):\n",
    "        return 1 \n",
    "    else:\n",
    "        return n*recursiveFact(n-1)\n",
    "recursiveFact(6)"
   ]
  },
  {
   "cell_type": "markdown",
   "metadata": {},
   "source": [
    "####Problem 4:\n",
    "\n",
    "####Problem Statement:\n",
    "To calculate GCD of two numbers using both iterative and recursive approach\n",
    "\n",
    "####Test Cases:\n",
    "* gcd(6,12)\n",
    "* gcd(12,39)\n",
    "* gcdRecursive(6,12)\n",
    "* gcdRecursive(12,39)"
   ]
  },
  {
   "cell_type": "code",
   "execution_count": 52,
   "metadata": {},
   "outputs": [
    {
     "name": "stdout",
     "output_type": "stream",
     "text": [
      "6\n",
      "3\n"
     ]
    }
   ],
   "source": [
    "####Iterative Approach\n",
    "def gcd(a,b):\n",
    "    r=b%a\n",
    "    if(r==0):\n",
    "        return a\n",
    "    while(r!=0):\n",
    "        r=b%a\n",
    "        b=a\n",
    "        a=r\n",
    "        r=b%a\n",
    "    return a\n",
    "print(gcd(6,12))\n",
    "print(gcd(12,39))"
   ]
  },
  {
   "cell_type": "code",
   "execution_count": 51,
   "metadata": {},
   "outputs": [
    {
     "name": "stdout",
     "output_type": "stream",
     "text": [
      "6\n",
      "3\n"
     ]
    }
   ],
   "source": [
    "####Recursive Approach\n",
    "# GCD of two numbers remains the samew when \n",
    "#smaller paramter is reduced to the remainder \n",
    "#and larger parameter is replaced by smaller parameter\n",
    "#GCD(a,b) = GCD(b%a,a)\n",
    "def gcdRecursive(a,b):\n",
    "    if(b%a==0):\n",
    "        return a\n",
    "    else:\n",
    "        return gcdRecursive(b%a,a)\n",
    "print(gcdRecursive(6,12))\n",
    "print(gcdRecursive(12,39))"
   ]
  },
  {
   "cell_type": "markdown",
   "metadata": {},
   "source": [
    "####Problem 5\n",
    "\n",
    "####Problem Statement:\n",
    "Towers Of Hanoi\n",
    "\n",
    "####Constraints:\n",
    "* Larger Disk cannot be placed on a smaller disk\n",
    "* Only 1 disk to be moved\n",
    "\n",
    "####Explanation:\n",
    "\n",
    "n disks - move n-1 from source to temp\n",
    "          move nth disk from source to destination\n",
    "3 disks - move 2 disks from soi=urce to temp\n",
    "          move 3rd disk from source to destination\n",
    "          move 2 disks from temp to destination--"
   ]
  },
  {
   "cell_type": "code",
   "execution_count": 62,
   "metadata": {},
   "outputs": [
    {
     "name": "stdout",
     "output_type": "stream",
     "text": [
      "Move  1 disk from  A to  C\n",
      "Move  2 disk from  A to  B\n",
      "Move  1 disk from  C to  B\n",
      "Move  3 disk from  A to  C\n",
      "Move  1 disk from  B to  A\n",
      "Move  2 disk from  B to  C\n",
      "Move  1 disk from  A to  C\n"
     ]
    }
   ],
   "source": [
    "def towersOfHanoi(n,source,temp,dest):\n",
    "    if n==1:\n",
    "        print('Move ',n, 'disk from ',source,'to ',dest)\n",
    "        return\n",
    "    else:\n",
    "        towersOfHanoi(n-1,source,dest,temp)\n",
    "        print('Move ',n,'disk from ',source, 'to ',dest)\n",
    "        towersOfHanoi(n-1,temp,source,dest)\n",
    "        return\n",
    "towersOfHanoi(3,'A','B','C')"
   ]
  },
  {
   "cell_type": "markdown",
   "metadata": {},
   "source": [
    "####Problem 6:\n",
    "\n",
    "####Problem Statement:\n",
    "Display Nth fibonacci number\n",
    "\n",
    "####Constraints:\n",
    "* First number should be 0\n",
    "* Second Number should be 1\n",
    "\n",
    "####Test Cases:\n",
    " * Nfibo(3) -> 1\n",
    " * Nfibo(10) -> 34\n",
    " * Nfobo(1) -> 0"
   ]
  },
  {
   "cell_type": "code",
   "execution_count": 3,
   "metadata": {},
   "outputs": [
    {
     "name": "stdout",
     "output_type": "stream",
     "text": [
      "1\n",
      "34\n",
      "0\n"
     ]
    }
   ],
   "source": [
    "def Nfibo(n):\n",
    "    if(n==1):\n",
    "        return 0\n",
    "    elif(n==2):\n",
    "        return 1\n",
    "    else:\n",
    "        return Nfibo(n-1)+Nfibo(n-2)\n",
    "print(Nfibo(3))\n",
    "print(Nfibo(10))\n",
    "print(Nfibo(1))"
   ]
  },
  {
   "cell_type": "markdown",
   "metadata": {},
   "source": [
    "####Problem 7:\n",
    "\n",
    "####Problem Statement:\n",
    "Define a function to identity the number of times a substring is repeating in a given string\n",
    "\n",
    "####Test Cases:\n",
    "* substringCount('str','substr') -> 1\n",
    "* substringCount('1234567891122334455','3') -> 3\n",
    "* substringCount('abccddccc','cc') -> 3\n",
    "* substringCount('aaaaaaa','aaa') -> 5"
   ]
  },
  {
   "cell_type": "code",
   "execution_count": 9,
   "metadata": {},
   "outputs": [
    {
     "name": "stdout",
     "output_type": "stream",
     "text": [
      "1\n",
      "3\n",
      "2\n"
     ]
    }
   ],
   "source": [
    "#Doesn't Work if repetitions are side by side\n",
    "def substringCount(str,substr):\n",
    "    if(len(str)>len(substr)):\n",
    "       return str.count(substr)\n",
    "    return substr.count(str)\n",
    "\n",
    "print(substringCount('str','substr'))\n",
    "print(substringCount('1234567891122334455','3'))\n",
    "print(substringCount('abccddccc','cc'))\n",
    "print(substringCount('aaaaaaa','aaa'))"
   ]
  },
  {
   "cell_type": "code",
   "execution_count": 20,
   "metadata": {},
   "outputs": [
    {
     "name": "stdout",
     "output_type": "stream",
     "text": [
      "1\n",
      "3\n",
      "3\n",
      "5\n"
     ]
    }
   ],
   "source": [
    "#Working Code\n",
    "def substringCount(str1,str2):\n",
    "    count=0\n",
    "    if(len(str1)>len(str2)):\n",
    "        a=str1\n",
    "        b=str2\n",
    "    else:\n",
    "        a=str2\n",
    "        b=str1\n",
    "    for i in range(len(a)):\n",
    "        if b in a[i:i+len(b)]:\n",
    "            count=count+1\n",
    "    return count\n",
    "\n",
    "print(substringCount('str','substr'))\n",
    "print(substringCount('1234567891122334455','3'))\n",
    "print(substringCount('abccddccc','cc'))\n",
    "print(substringCount('aaaaaaa','aaa'))"
   ]
  },
  {
   "cell_type": "markdown",
   "metadata": {},
   "source": [
    "###Problem 8:\n",
    "\n",
    "####Problem Statement:\n",
    "Define a function to merge the characters of two strings alternatively. The remaining characters of the longer string are printed in the same order at the end.\n",
    "\n",
    "####Test Cases:\n",
    "* mergeString('abcd', 'abcd') -> 'aabbccdd'\n",
    "* mergeString('abc', '123456') -> 'a1b2c3456'"
   ]
  },
  {
   "cell_type": "code",
   "execution_count": 6,
   "metadata": {},
   "outputs": [
    {
     "name": "stdout",
     "output_type": "stream",
     "text": [
      "aabbccdd\n",
      "a1b2c3456\n",
      "0123456\n"
     ]
    }
   ],
   "source": [
    "def mergeString(str1,str2):\n",
    "    c=str1[0]+str2[0]\n",
    "    if(len(str1)>len(str2)):\n",
    "        a=str1\n",
    "        b=str2\n",
    "    else:\n",
    "        a=str2\n",
    "        b=str1\n",
    "    for i in range(1,len(b)):\n",
    "        c=c+b[i]+a[i]\n",
    "    for i in range(len(b),len(a)):\n",
    "        c=c+a[i]\n",
    "    return c\n",
    "print(mergeString('abcd', 'abcd'))\n",
    "print(mergeString('abc', '123456'))\n",
    "print(mergeString('0', '123456')) "
   ]
  }
 ],
 "metadata": {
  "kernelspec": {
   "display_name": "Python 3",
   "language": "python",
   "name": "python3"
  },
  "language_info": {
   "codemirror_mode": {
    "name": "ipython",
    "version": 3
   },
   "file_extension": ".py",
   "mimetype": "text/x-python",
   "name": "python",
   "nbconvert_exporter": "python",
   "pygments_lexer": "ipython3",
   "version": "3.7.3"
  }
 },
 "nbformat": 4,
 "nbformat_minor": 2
}
