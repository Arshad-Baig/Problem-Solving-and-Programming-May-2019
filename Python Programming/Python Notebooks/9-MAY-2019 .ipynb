{
 "cells": [
  {
   "cell_type": "markdown",
   "metadata": {},
   "source": [
    "##Problem Solving and Programing\n",
    "\n",
    "###Arshad\n",
    "###Day 10\n",
    "###Date : 9-MAY-2019"
   ]
  },
  {
   "cell_type": "markdown",
   "metadata": {},
   "source": [
    "###Day Outcomes: Converting and Writing 'Day 4' 'Day 5' and 'Day 6' programs into Python"
   ]
  },
  {
   "cell_type": "markdown",
   "metadata": {},
   "source": [
    "###Problem 1 #Day 4\n",
    "####Problem Statement: Simple Greeting"
   ]
  },
  {
   "cell_type": "code",
   "execution_count": 1,
   "metadata": {},
   "outputs": [
    {
     "name": "stdout",
     "output_type": "stream",
     "text": [
      "Good Morning!\n"
     ]
    }
   ],
   "source": [
    "print(\"Good Morning!\")"
   ]
  },
  {
   "cell_type": "markdown",
   "metadata": {},
   "source": [
    "###Problem 2\n",
    "####Problem Statement: Greeting a Specific User"
   ]
  },
  {
   "cell_type": "code",
   "execution_count": 5,
   "metadata": {},
   "outputs": [
    {
     "name": "stdout",
     "output_type": "stream",
     "text": [
      "Enter Your Name:Arshad\n",
      "Good Morning! \n",
      "Arshad\n"
     ]
    }
   ],
   "source": [
    "name=input(\"Enter Your Name:\")\n",
    "print(\"Good Morning! \"+'\\n'+name)"
   ]
  },
  {
   "cell_type": "markdown",
   "metadata": {},
   "source": [
    "###Problem 3\n",
    "####Problem Statement: \n",
    "Perform Arithmetic Operations"
   ]
  },
  {
   "cell_type": "code",
   "execution_count": 16,
   "metadata": {},
   "outputs": [
    {
     "name": "stdout",
     "output_type": "stream",
     "text": [
      "a=10\n",
      "b=5\n",
      "Addition :  15\n",
      "Subtraction:  5\n",
      "Multiplication:  50\n",
      "Division:  2.0\n",
      "Modulus : 0\n"
     ]
    }
   ],
   "source": [
    "ar1=10\n",
    "ar2=5\n",
    "print(\"a=10\")\n",
    "print(\"b=5\")\n",
    "print(\"Addition : \",ar1+ar2)\n",
    "print(\"Subtraction: \",ar1-ar2)\n",
    "print(\"Multiplication: \",ar1*ar2)\n",
    "print(\"Division: \",ar1/ar2)\n",
    "print(\"Modulus :\",ar1%ar2)"
   ]
  },
  {
   "cell_type": "markdown",
   "metadata": {},
   "source": [
    "###Problem 4\n",
    "####Problem Statement: \n",
    "To Evaluate a polynomial based on user input\n",
    "\n",
    "####Constraints: Given number will be in the range [1,1000]\n",
    "####Test Cases : f(x)= x^3 + 2 X^2 + 3 X - 10"
   ]
  },
  {
   "cell_type": "code",
   "execution_count": 23,
   "metadata": {},
   "outputs": [
    {
     "name": "stdout",
     "output_type": "stream",
     "text": [
      "Enter a Number:5\n",
      "Polynomial Equation is : f(x): x^3 + 2x^2 + 3x -10\n",
      "180\n"
     ]
    }
   ],
   "source": [
    "poly=int(input(\"Enter a Number:\"))\n",
    "print(\"Polynomial Equation is : f(x): x^3 + 2x^2 + 3x -10\")\n",
    "print(poly**3+2*poly**2+3*poly-10)"
   ]
  },
  {
   "cell_type": "markdown",
   "metadata": {},
   "source": [
    "###Problem 5\n",
    "####Problem Statement: \n",
    "Determining If a number is even or odd"
   ]
  },
  {
   "cell_type": "code",
   "execution_count": 28,
   "metadata": {},
   "outputs": [
    {
     "name": "stdout",
     "output_type": "stream",
     "text": [
      "Enter a number10\n",
      "Even\n"
     ]
    }
   ],
   "source": [
    "even_odd=int(input(\"Enter a number: \"))\n",
    "if even_odd%2==0:\n",
    "    print(\"Even\")\n",
    "else:\n",
    "    print(\"Odd\")"
   ]
  },
  {
   "cell_type": "markdown",
   "metadata": {},
   "source": [
    "###Problem 6\n",
    "####Problem Statement: \n",
    "To Find the greatest of 3 numbers"
   ]
  },
  {
   "cell_type": "code",
   "execution_count": 33,
   "metadata": {},
   "outputs": [
    {
     "name": "stdout",
     "output_type": "stream",
     "text": [
      "A:5 B:6 C:2\n",
      "6 is Greater\n"
     ]
    }
   ],
   "source": [
    "gr_a=5\n",
    "gr_b=6\n",
    "gr_c=2\n",
    "print(\"A:5\"+\" \"+\"B:6\"+\" \"+\"C:2\")\n",
    "if gr_a>gr_b and gr_a>gr_c:\n",
    "    print(gr_a,\"is Greater\")\n",
    "elif gr_b>gr_a and gr_b>gr_c:\n",
    "    print(gr_b,\"is Greater\")\n",
    "else:\n",
    "    print(gr_c,\"is Greater\")"
   ]
  },
  {
   "cell_type": "markdown",
   "metadata": {},
   "source": [
    "###Problem 7\n",
    "####Problem Statement: \n",
    "Testing Divisibility with 2 and 3 but not 4"
   ]
  },
  {
   "cell_type": "code",
   "execution_count": 45,
   "metadata": {},
   "outputs": [
    {
     "name": "stdout",
     "output_type": "stream",
     "text": [
      "Enter a number:10\n",
      "False\n"
     ]
    }
   ],
   "source": [
    "div_a=int(input(\"Enter a number:\"))\n",
    "if(div_a%2==0 and div_a%3==0 and div_a%4!=0):\n",
    "         Print(\"True\")\n",
    "else:\n",
    "        print(\"False\")"
   ]
  },
  {
   "cell_type": "markdown",
   "metadata": {},
   "source": [
    "###Problem 8\n",
    "\n",
    "####Problem Statement: \n",
    "Given 2 ints, a and b, return True if one if them is 10 or if their sum is 10.\n",
    "\n",
    "####Test Cases: \n",
    "* makes10(9, 10) → True\n",
    "* makes10(9, 9) → False\n",
    "* makes10(1, 9) → True\n"
   ]
  },
  {
   "cell_type": "code",
   "execution_count": 47,
   "metadata": {},
   "outputs": [
    {
     "name": "stdout",
     "output_type": "stream",
     "text": [
      "True\n",
      "False\n",
      "True\n"
     ]
    }
   ],
   "source": [
    "def makes10(n1,n2):\n",
    "    if(n1==10 or n2==10 or n1+n2==10):\n",
    "        return True\n",
    "    else:\n",
    "        return False\n",
    "print(makes10(9,10))\n",
    "print(makes10(9,9))\n",
    "print(makes10(1,9))"
   ]
  },
  {
   "cell_type": "markdown",
   "metadata": {},
   "source": [
    "###Problem 9\n",
    "\n",
    "####Problem Statement: \n",
    "Given 2 int values,return True if first parameter is negative and second paramter is positive or vice versa. Except if the third Parameter is True, then return True only if first two parameters are negative.\n",
    "\n",
    "####Constraints:\n",
    "\n",
    "####Test Cases:\n",
    "* pos_neg(1,-1,False) -> True\n",
    "* pos_neg(-1,1,False) -> True\n",
    "* pos_neg(-4,-5,True) -> True\n",
    "* pos_neg(-1,1,True) -> False\n",
    "* pos_neg(1,6,True) -> False\n",
    "* pos_neg(-1,-9,False) -> False"
   ]
  },
  {
   "cell_type": "code",
   "execution_count": 39,
   "metadata": {},
   "outputs": [
    {
     "name": "stdout",
     "output_type": "stream",
     "text": [
      "True\n",
      "True\n",
      "True\n",
      "False\n",
      "False\n",
      "False\n"
     ]
    }
   ],
   "source": [
    "def pos_neg(n1,n2,b):\n",
    "    if(n1<0 and n2>0 and b==False) or (n1>0 and n2<0 and b==False) or (n1<0 and n2<0 and b==True):\n",
    "        return True\n",
    "    else:\n",
    "        return False\n",
    "print(pos_neg(1,-1,False))\n",
    "print(pos_neg(-1,1,False))\n",
    "print(pos_neg(-4,-5,True))\n",
    "print(pos_neg(-1,1,True))\n",
    "print(pos_neg(1,6,True))\n",
    "print(pos_neg(-1,-9,False))"
   ]
  },
  {
   "cell_type": "markdown",
   "metadata": {},
   "source": [
    "###Problem 10\n",
    "\n",
    "####Problem Statement: \n",
    "Given an int n, return True if it is within 10 of 100 or 200. Note: \n",
    "\n",
    "####Constraints:\n",
    "abs(num) computes the absolute value of a number.\n",
    "\n",
    "####Test Cases:\n",
    "* near_hundred(93) → True\n",
    "* near_hundred(90) → True\n",
    "* near_hundred(89) → False"
   ]
  },
  {
   "cell_type": "code",
   "execution_count": 43,
   "metadata": {},
   "outputs": [
    {
     "name": "stdout",
     "output_type": "stream",
     "text": [
      "True\n",
      "True\n",
      "False\n"
     ]
    }
   ],
   "source": [
    "def near_hundred(n):\n",
    "    if(abs(n)>=90 and abs(n)<=110) or (abs(n)>=190 and abs(n)<=210):\n",
    "        return True\n",
    "    else:\n",
    "        return False\n",
    "print(near_hundred(93))\n",
    "print(near_hundred(90))\n",
    "print(near_hundred(89))"
   ]
  },
  {
   "cell_type": "markdown",
   "metadata": {},
   "source": [
    "###Problem 11\n",
    "\n",
    "####Problem Statement: \n",
    "Designing a procedure to perform Arithmetic Operations"
   ]
  },
  {
   "cell_type": "code",
   "execution_count": 49,
   "metadata": {},
   "outputs": [
    {
     "name": "stdout",
     "output_type": "stream",
     "text": [
      "Additon: 25\n",
      "Subtraction: 15\n",
      "Multiplication: 100\n",
      "Division: 4.0\n",
      "Modulus: 0\n"
     ]
    }
   ],
   "source": [
    "def arithmetic_op(n1,n2):\n",
    "    print(\"Additon:\",n1+n2)\n",
    "    print(\"Subtraction:\",n1-n2)\n",
    "    print(\"Multiplication:\",n1*n2)\n",
    "    print(\"Division:\",n1/n2)\n",
    "    print(\"Modulus:\",n1%n2)\n",
    "arithmetic_op(20,5)"
   ]
  },
  {
   "cell_type": "markdown",
   "metadata": {},
   "source": [
    "###Problem 12\n",
    "\n",
    "####Problem Statement:\n",
    "Create a Random Number Generator as a Procedure which takes the Range(lb, ub) and returns a Random number in the given range\n",
    "\n",
    "####Constraints:\n",
    "* lb<random<ub\n",
    "\n",
    "####Test Cases:\n",
    "* RandomGenerator(1,100) -> will be in range (1,100)"
   ]
  },
  {
   "cell_type": "code",
   "execution_count": 56,
   "metadata": {},
   "outputs": [
    {
     "data": {
      "text/plain": [
       "20"
      ]
     },
     "execution_count": 56,
     "metadata": {},
     "output_type": "execute_result"
    }
   ],
   "source": [
    "import random\n",
    "def RandomGenerator(lb,ub):\n",
    "    return random.randrange(lb+1,ub)  # Library_Name.(FunctionName){}\n",
    "RandomGenerator(1,100)"
   ]
  },
  {
   "cell_type": "markdown",
   "metadata": {},
   "source": [
    "###Problem 13\n",
    "\n",
    "####Problem Statement:\n",
    "Procedure to print N natural numbers."
   ]
  },
  {
   "cell_type": "code",
   "execution_count": 63,
   "metadata": {},
   "outputs": [
    {
     "name": "stdout",
     "output_type": "stream",
     "text": [
      "1\n",
      "2\n",
      "3\n",
      "4\n",
      "5\n",
      "6\n",
      "7\n",
      "8\n",
      "9\n",
      "10\n",
      "None\n"
     ]
    }
   ],
   "source": [
    "def N_natural(n):\n",
    "    for i in range(1,n+1):\n",
    "        print(i)\n",
    "print(N_natural(10))"
   ]
  },
  {
   "cell_type": "markdown",
   "metadata": {},
   "source": [
    "###Problem 14                   #Day 5\n",
    "\n",
    "####Problem Statement:\n",
    "Procedure to calculate the factorial of a given number"
   ]
  },
  {
   "cell_type": "code",
   "execution_count": 68,
   "metadata": {},
   "outputs": [
    {
     "name": "stdout",
     "output_type": "stream",
     "text": [
      "120\n",
      "3628800\n"
     ]
    }
   ],
   "source": [
    "def fact(n):\n",
    "    fact=1\n",
    "    for i in range(1,n+1):\n",
    "        fact=fact*i\n",
    "    return fact\n",
    "print(fact(5))\n",
    "print(fact(10))"
   ]
  },
  {
   "cell_type": "markdown",
   "metadata": {},
   "source": [
    "###Problem 15\n",
    "\n",
    "####Problem Statement: Procedure to generate Multiplication tables for a given boundary from ub to lb\n",
    "\n",
    "####Test Cases:\n",
    "* MT(3, 5, 7) -> 3 X 5 = 15\n",
    "                 3 X 6 = 18\n",
    "                 3 X 7 = 21"
   ]
  },
  {
   "cell_type": "code",
   "execution_count": 14,
   "metadata": {},
   "outputs": [
    {
     "name": "stdout",
     "output_type": "stream",
     "text": [
      "3 x 5 = 15\n",
      "3 x 6 = 18\n",
      "3 x 7 = 21\n"
     ]
    }
   ],
   "source": [
    "def MT(n,lb,ub):\n",
    "    for i in range(lb,ub+1):\n",
    "        print(n,\"x\",i,\"=\",(n*i))\n",
    "MT(3,5,7)"
   ]
  },
  {
   "cell_type": "markdown",
   "metadata": {},
   "source": [
    "###Problem 16\n",
    "\n",
    "####Problem Statement: Procedure to print the list of factors of a given number.\n",
    "\n",
    "####Test Cases:\n",
    "* FactorList(6) -> 1 2 3 6\n",
    "* FactorList (9) -> 1 3 9\n",
    "* FactorList (19) -> 1  19"
   ]
  },
  {
   "cell_type": "code",
   "execution_count": 18,
   "metadata": {},
   "outputs": [
    {
     "name": "stdout",
     "output_type": "stream",
     "text": [
      "1 2 3 6 None\n",
      "1 3 9 None\n",
      "1 19 None\n"
     ]
    }
   ],
   "source": [
    "def FactorList(n):\n",
    "    for i in range(1,n+1):\n",
    "        if(n%i==0):\n",
    "            print(i,end=\" \")\n",
    "print(FactorList(6))\n",
    "print(FactorList(9))\n",
    "print(FactorList(19))"
   ]
  },
  {
   "cell_type": "markdown",
   "metadata": {},
   "source": [
    "###Problem 17\n",
    "\n",
    "####Problem Statement:\n",
    "To generate the sum of 'N' random numbers. Lower bound and Upper Bound are user specified\n",
    "\n",
    "####Constraints\n",
    "* 0 < n < 10000000000"
   ]
  },
  {
   "cell_type": "code",
   "execution_count": 58,
   "metadata": {},
   "outputs": [
    {
     "data": {
      "text/plain": [
       "54341698044969290"
      ]
     },
     "execution_count": 58,
     "metadata": {},
     "output_type": "execute_result"
    }
   ],
   "source": [
    "import random\n",
    "\n",
    "def sumRandomNumbers(n,lb,ub):\n",
    "    sum=0\n",
    "    for count in range(1,n+1):\n",
    "        sum=sum+random.randint(lb,ub)\n",
    "    return sum\n",
    "sumRandomNumbers(100,0,1000000000000000)"
   ]
  },
  {
   "cell_type": "markdown",
   "metadata": {},
   "source": [
    "###Problem 18  #Day 6\n",
    "\n",
    "####Problem Statement: \n",
    "Design a procedure calculate the maximum, minimum and average of N numbers\n",
    "\n",
    "####Test Cases:\n",
    "* data(a[1,2,3,4,5]) -> Max = 5, Min = 1, Avg = 3"
   ]
  },
  {
   "cell_type": "code",
   "execution_count": 158,
   "metadata": {},
   "outputs": [
    {
     "name": "stdout",
     "output_type": "stream",
     "text": [
      "Max = 5\n",
      "Min = 1\n",
      "Avg = 3.0\n"
     ]
    }
   ],
   "source": [
    "def data(li):\n",
    "    n=len(li)\n",
    "    print(\"Max =\",max(li))\n",
    "    print(\"Min =\",min(li))\n",
    "    avg=sum(li)/n\n",
    "    print(\"Avg =\",avg)\n",
    "a=[1,2,3,4,5]\n",
    "data(a)"
   ]
  },
  {
   "cell_type": "markdown",
   "metadata": {},
   "source": [
    "###Problem 19\n",
    "\n",
    "####Problem Statement: \n",
    "Design a procedure to perform Linear Search on list of N unsorted unique numbers. It takes an array and the key element to be searched and returns the index of the key element if found. If the element is not found then return -1.\n",
    "\n",
    "####Constraints:\n",
    "\n",
    "####Test Cases:\n",
    "* linearSearch([1,4,8,0,3,5,6],3) -> 4\n",
    "* linearSearch([15,12,9,6,3,-3],0) -> -1\n",
    "* linearSearch([321,543,567,789],567) -> 2"
   ]
  },
  {
   "cell_type": "code",
   "execution_count": 77,
   "metadata": {},
   "outputs": [
    {
     "name": "stdout",
     "output_type": "stream",
     "text": [
      "4\n",
      "-1\n",
      "2\n"
     ]
    }
   ],
   "source": [
    "def linearSearch(arr,key):\n",
    "    for i in range(0,len(arr)):\n",
    "        if(key==arr[i]):\n",
    "            return i\n",
    "    return -1\n",
    "print(linearSearch([1,4,8,0,3,5,6],3))\n",
    "print(linearSearch([15,12,9,6,3,-3],0))\n",
    "print(linearSearch([321,543,567,789],567))"
   ]
  },
  {
   "cell_type": "markdown",
   "metadata": {},
   "source": [
    "###Problem 20\n",
    "\n",
    "####Problem Statement:\n",
    "Design a procedure to determine if a given string is a Palindrome\n",
    "\n",
    "####Test Cases:\n",
    "* Palindrome(\"racecar\") -> True\n",
    "* Palindrome(\"Raptor\") - > False"
   ]
  },
  {
   "cell_type": "code",
   "execution_count": 128,
   "metadata": {},
   "outputs": [
    {
     "name": "stdout",
     "output_type": "stream",
     "text": [
      "True\n",
      "False\n"
     ]
    }
   ],
   "source": [
    "import math\n",
    "def palindrome(pal_str):\n",
    "    flag=0\n",
    "    n=math.floor(len(pal_str)/2)\n",
    "    for i in range(0,n):\n",
    "        if(pal_str[i]==pal_str[len(pal_str)-i-1]):\n",
    "            flag=flag+1\n",
    "    if(flag==n):\n",
    "        print(\"True\")\n",
    "    else:\n",
    "        print(\"False\")\n",
    "palindrome('racecar')\n",
    "palindrome('raptor')"
   ]
  },
  {
   "cell_type": "code",
   "execution_count": null,
   "metadata": {},
   "outputs": [],
   "source": [
    "##Alternate Method For Palindrome"
   ]
  },
  {
   "cell_type": "code",
   "execution_count": 137,
   "metadata": {},
   "outputs": [
    {
     "name": "stdout",
     "output_type": "stream",
     "text": [
      "True\n",
      "False\n"
     ]
    }
   ],
   "source": [
    "def palindrome(str):\n",
    "    if(str==str[len(str)-1::-1]):\n",
    "        return True\n",
    "    else:\n",
    "        return False\n",
    "print(palindrome('racecar'))\n",
    "print(palindrome('raptor'))"
   ]
  },
  {
   "cell_type": "code",
   "execution_count": null,
   "metadata": {},
   "outputs": [],
   "source": [
    "#Alternate Method for Palindrome"
   ]
  },
  {
   "cell_type": "code",
   "execution_count": null,
   "metadata": {},
   "outputs": [],
   "source": []
  },
  {
   "cell_type": "markdown",
   "metadata": {},
   "source": [
    "###Problem 21\n",
    "\n",
    "####Problem Statement:\n",
    "Design a procedure to determine the square root of a number\n",
    "\n",
    "####Test Cases:\n",
    "* Squareroot(36) -> 6"
   ]
  },
  {
   "cell_type": "code",
   "execution_count": 135,
   "metadata": {},
   "outputs": [
    {
     "name": "stdout",
     "output_type": "stream",
     "text": [
      "6.0\n",
      "9.0\n"
     ]
    }
   ],
   "source": [
    "def Squareroot(n):\n",
    "    num=n**0.5\n",
    "    return num\n",
    "print(Squareroot(36))\n",
    "print(Squareroot(81))"
   ]
  }
 ],
 "metadata": {
  "kernelspec": {
   "display_name": "Python 3",
   "language": "python",
   "name": "python3"
  },
  "language_info": {
   "codemirror_mode": {
    "name": "ipython",
    "version": 3
   },
   "file_extension": ".py",
   "mimetype": "text/x-python",
   "name": "python",
   "nbconvert_exporter": "python",
   "pygments_lexer": "ipython3",
   "version": "3.7.3"
  }
 },
 "nbformat": 4,
 "nbformat_minor": 2
}
