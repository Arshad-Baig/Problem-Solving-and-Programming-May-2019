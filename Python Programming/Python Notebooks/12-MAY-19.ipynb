{
 "cells": [
  {
   "cell_type": "markdown",
   "metadata": {},
   "source": [
    "##Problem Solving and Programing\n",
    "\n",
    "###Arshad\n",
    "\n",
    "###Day 14\n",
    "\n",
    "###Date : 12-MAY-2019"
   ]
  },
  {
   "cell_type": "markdown",
   "metadata": {},
   "source": [
    "###Day Outcomes:\n",
    "1. Completed one problem from geekforgeeks website\n",
    "2. Completed One problem from given problem set"
   ]
  },
  {
   "cell_type": "markdown",
   "metadata": {},
   "source": [
    "###Problem 1\n",
    "\n",
    "####Problem Statement:\n",
    "To find the sum of squares upto N numbers\n",
    "\n",
    "####Test Cases:\n",
    "* sumOfSquares(4)\n",
    "* sumOfSquares(5)"
   ]
  },
  {
   "cell_type": "code",
   "execution_count": 25,
   "metadata": {},
   "outputs": [
    {
     "name": "stdout",
     "output_type": "stream",
     "text": [
      "30\n",
      "55\n"
     ]
    }
   ],
   "source": [
    "def sumOfSquares(n):\n",
    "    sum=0\n",
    "    for i in range(1,n+1):\n",
    "        sum=sum+((i)**2)\n",
    "    return sum\n",
    "print(sumOfSquares(4))\n",
    "print(sumOfSquares(5))"
   ]
  },
  {
   "cell_type": "markdown",
   "metadata": {},
   "source": [
    "###Problem 2\n",
    "\n",
    "####Problem Statement:\n",
    " You are given n words. Some words may repeat. For each word, output its number of occurrences. The output order should correspond with the input order of appearance of the word. \n",
    "First line of input contains the total number of words n. Next n lines contain words that need to processed.\n",
    "\n",
    "First line of the output should contain the total number distinct words. Second line of output must contain the frequency of words the same order of their appearance as in the input\n",
    "\n",
    "\n",
    "####Test Case:\n",
    "* Sample Input :  \n",
    "6\n",
    "\n",
    "abcd\n",
    "\n",
    "ijkl\n",
    "\n",
    "abcd\n",
    "\n",
    "pqrs\n",
    "\n",
    "abcd\n",
    "\n",
    "ijkl\n",
    "\n",
    "* Sample Output : \n",
    "3\n",
    "\n",
    "3  2   1"
   ]
  },
  {
   "cell_type": "code",
   "execution_count": 114,
   "metadata": {},
   "outputs": [
    {
     "name": "stdout",
     "output_type": "stream",
     "text": [
      "3\n",
      "3 2 1 "
     ]
    }
   ],
   "source": [
    "def occurence(ln,li):\n",
    "    li=['abcd','ijkl','abcd','pqrs','abcd','ijkl']\n",
    "    u=unique(li)\n",
    "    print(len(u))\n",
    "    for i in range(0,len(u)):\n",
    "        count=0\n",
    "        for j in range(0,len(li)):\n",
    "            if u[i]==li[j]:\n",
    "                count=count+1\n",
    "        print(count,end=' ')\n",
    "\n",
    "def unique(li):\n",
    "    u=[]\n",
    "    u.append(li[0])\n",
    "    for x in li:\n",
    "        if x not in u:\n",
    "            u.append(x)\n",
    "    return u\n",
    "occurence(6,['abcd','ijkl','abcd','pqrs','abcd','ijkl'])"
   ]
  }
 ],
 "metadata": {
  "kernelspec": {
   "display_name": "Python 3",
   "language": "python",
   "name": "python3"
  },
  "language_info": {
   "codemirror_mode": {
    "name": "ipython",
    "version": 3
   },
   "file_extension": ".py",
   "mimetype": "text/x-python",
   "name": "python",
   "nbconvert_exporter": "python",
   "pygments_lexer": "ipython3",
   "version": "3.7.3"
  }
 },
 "nbformat": 4,
 "nbformat_minor": 2
}
