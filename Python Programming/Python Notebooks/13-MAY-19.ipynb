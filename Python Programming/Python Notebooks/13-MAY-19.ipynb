{
 "cells": [
  {
   "cell_type": "markdown",
   "metadata": {},
   "source": [
    "##Problem Solving and Programing\n",
    "\n",
    "###Arshad\n",
    "###Day 15\n",
    "###Date : 13-MAY-2019"
   ]
  },
  {
   "cell_type": "markdown",
   "metadata": {},
   "source": [
    "###Day Outcomes:\n",
    "1. Completed 2 and 3 programs from given 12th May Problem Set"
   ]
  },
  {
   "cell_type": "markdown",
   "metadata": {},
   "source": [
    "###Problem 1\n",
    "\n",
    "####Problem Statement:\n",
    "Define a function to validate email addresses based on the following rules.\n",
    " * mail should be in the format username@domain.extension\n",
    " * username must start with an alphabet and can contain lowercase alphabet, digits, hyphen(-) and underscores( _ ).\n",
    " * username must not contain special characters, uppercase letters, whitespaces.\n",
    " * Length of username must be in the range (6, 16)\n",
    " * Domain can only contain lowercase alphabet and digits with length in range (3, 10) . No special characters are allowed\n",
    " * Extension can only contain lower case alphabet and its length must be in the range (2, 4)\n",
    "\n",
    "####Constraints:\n",
    "First line of input contains total number of email addresses n.  Next n lines contain  n email addresses.\n",
    "Output must contain contain  n  lines with either 'Valid' or 'Invalid'\n",
    "\n",
    "####Test Cases:\n",
    " * Sample Input:\n",
    " \n",
    "    * 6\n",
    "    * abc456@gmail.com\n",
    "    * 456abc@yahoo.com\n",
    "    * abc_456@gitam.ed1\n",
    "    * abc-456@abc-d.in\n",
    "    * python@python.edu\n",
    "    * abc 456@edu.edu\n",
    "  \n",
    " * Sample Output:\n",
    "  \n",
    "    * Valid\n",
    "    * Invalid\n",
    "    * Invalid\n",
    "    * Invalid\n",
    "    * Valid\n",
    "    * Invalid"
   ]
  },
  {
   "cell_type": "code",
   "execution_count": 177,
   "metadata": {},
   "outputs": [
    {
     "name": "stdout",
     "output_type": "stream",
     "text": [
      "Valid\n",
      "Invalid\n",
      "Invalid\n",
      "Invalid\n",
      "Valid\n",
      "Invalid\n"
     ]
    }
   ],
   "source": [
    "def checkmail(li):\n",
    "    result=0\n",
    "    sym_list1=[chr(x) for x in range(58,64)]\n",
    "    sym_list2=[chr(x) for x in range(91,95)]\n",
    "    sym_list3=[chr(x) for x in range(46,48)]\n",
    "    sym_list4=[chr(x) for x in range(123,127)]\n",
    "    spl_list=[chr(x) for x in range(32,45)]\n",
    "    num_list=[1,2,3,4,5,6,7,8,9,0]\n",
    "    list1=[chr(x) for x in range(45,46)]\n",
    "    list2=[chr(x) for x in range(95,96)]\n",
    "    uname=li[0:li.index('@')]\n",
    "    domain=li[li.index('@')+1:li.index('.')]\n",
    "    ext=li[li.index('.')+1:len(li)]\n",
    "    for i in range(len(uname)):\n",
    "        if(uname[i] in list1):\n",
    "            result=result\n",
    "        elif(uname[i] in sym_list1 or uname[i] in sym_list2 or uname[i] in sym_list3 or uname[i] in sym_list4):\n",
    "            return False\n",
    "        #result=1 \n",
    "        elif uname[i] in spl_list:\n",
    "            return False\n",
    "    if(uname[0].islower() and len(uname)<=16 and len(uname)>=6 and uname.islower()):\n",
    "        result=1\n",
    "    else:\n",
    "        return False\n",
    "        \n",
    "    for i in range(len(domain)):\n",
    "        if(domain[i].islower() and len(domain) in range(3,11)):\n",
    "            result=1\n",
    "        elif domain[i] in num_list:\n",
    "            return False\n",
    "        else:\n",
    "             return False\n",
    "            \n",
    "    for i in range(len(ext)):\n",
    "        if(ext[i].islower() and len(ext) in range(2,5)):\n",
    "            result=1\n",
    "        else:\n",
    "            return False\n",
    "    if(result==1):\n",
    "        return True\n",
    "li=['abc456@gmail.com','456abc@yahoo.com','abc_456@gitam.ed1','abc-456@abc-d.in','python@python.edu','abc 456@edu.edu']\n",
    "for i in range(len(li)):\n",
    "    if(checkmail(li[i])):\n",
    "        print(\"Valid\")\n",
    "    else:\n",
    "        print(\"Invalid\")"
   ]
  },
  {
   "cell_type": "markdown",
   "metadata": {},
   "source": [
    "###Problem 2\n",
    "\n",
    "####Problem Statement:\n",
    " Define a function that take an array of integers A, and an integer K and returns the longest possible sub-set of A i.e A' such that the sum of no two elements in A' is divisible by K.\n",
    " First line in input contains the length of A and the integer K. Second line of input contains len(A) space-separated integers.\n",
    "\n",
    "####Constraints:\n",
    "Output must contain the length of A' list\n",
    "\n",
    "####Test Cases:\n",
    "* Sample Input :\n",
    "  * 4  3\n",
    "  * 1 7 2 4 \n",
    "* Sample Output :\n",
    "  * 3"
   ]
  },
  {
   "cell_type": "code",
   "execution_count": 233,
   "metadata": {},
   "outputs": [
    {
     "name": "stdout",
     "output_type": "stream",
     "text": [
      "3\n"
     ]
    }
   ],
   "source": [
    "def NotDivisible(array,k):\n",
    "    subset=[ ]\n",
    "    subset.append(array[0])\n",
    "    for i in range(1,len(array)):\n",
    "        if(sumcheck(array[i],k,subset)==True):\n",
    "            subset.append(array[i])\n",
    "    print(len(subset))\n",
    "def sumcheck(var,k,subset):\n",
    "    for i in range(len(subset)):\n",
    "        if((var+subset[i])%k==0):\n",
    "            return False\n",
    "    return True\n",
    "a=[1,1,2,3]\n",
    "NotDivisible(a,3)"
   ]
  }
 ],
 "metadata": {
  "kernelspec": {
   "display_name": "Python 3",
   "language": "python",
   "name": "python3"
  },
  "language_info": {
   "codemirror_mode": {
    "name": "ipython",
    "version": 3
   },
   "file_extension": ".py",
   "mimetype": "text/x-python",
   "name": "python",
   "nbconvert_exporter": "python",
   "pygments_lexer": "ipython3",
   "version": "3.7.3"
  }
 },
 "nbformat": 4,
 "nbformat_minor": 2
}
