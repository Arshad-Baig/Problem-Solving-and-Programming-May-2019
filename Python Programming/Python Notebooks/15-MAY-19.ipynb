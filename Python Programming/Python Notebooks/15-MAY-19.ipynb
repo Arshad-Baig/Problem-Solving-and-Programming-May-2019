{
 "cells": [
  {
   "cell_type": "markdown",
   "metadata": {},
   "source": [
    "## Packages"
   ]
  },
  {
   "cell_type": "code",
   "execution_count": null,
   "metadata": {},
   "outputs": [],
   "source": [
    "from Packages.test import fact\n",
    "fact(6)"
   ]
  },
  {
   "cell_type": "code",
   "execution_count": null,
   "metadata": {},
   "outputs": [],
   "source": [
    "from Packages.StringPackage.stringFunctions import reverseString\n",
    "#alternateCharacter('arshad')\n",
    "reverseString('arshad')"
   ]
  },
  {
   "cell_type": "code",
   "execution_count": null,
   "metadata": {},
   "outputs": [],
   "source": [
    "#from math import floor  # IMPORTING SPECIFIC FUNCTION \n",
    "#math.floor(123.456)\n",
    "\n",
    " #IMPORTING ALL THE MATH FUNCTIONS - INCREASES MEMORY CONSUMPTION\n",
    "math.floor(111.222)"
   ]
  },
  {
   "cell_type": "markdown",
   "metadata": {},
   "source": [
    "## Regular Expressions"
   ]
  },
  {
   "cell_type": "code",
   "execution_count": null,
   "metadata": {},
   "outputs": [],
   "source": [
    "import re\n",
    "\n",
    "pattern='^a...s$'\n",
    "test_string='abyss'\n",
    "result=re.match(pattern,test_string)\n",
    "if result:\n",
    "    print(\"Successful\")\n",
    "else:\n",
    "    print(\"Unsuccesfull\")"
   ]
  },
  {
   "cell_type": "code",
   "execution_count": null,
   "metadata": {},
   "outputs": [],
   "source": [
    "import re\n",
    "\n",
    "pattern='^g..........'\n",
    "test_string='gmai'\n",
    "result=re.match(pattern,test_string)\n",
    "if result:\n",
    "    print('Match')\n",
    "else:\n",
    "     print('No Match')"
   ]
  },
  {
   "cell_type": "code",
   "execution_count": null,
   "metadata": {},
   "outputs": [],
   "source": [
    "import re\n",
    "pattern='^[a-z]{2}$'    # if $ is not given,it will validate the test string for anything between a-z uptil 2 characters only\n",
    "test_string='zzzzzz'\n",
    "if(re.match(pattern,test_string)):\n",
    "   print(\"true\")\n",
    "else:\n",
    "   print(\"False\")"
   ]
  },
  {
   "cell_type": "code",
   "execution_count": null,
   "metadata": {},
   "outputs": [],
   "source": [
    "import re\n",
    "#alpha=[a-z]\n",
    "#num=[0-9]\n",
    "pattern='^[0-9a-z]{6}' #\n",
    "test_string='ab12)()'\n",
    "if(re.match(pattern,test_string)):\n",
    "   print(\"true\")\n",
    "else:\n",
    "   print(\"False\")"
   ]
  },
  {
   "cell_type": "code",
   "execution_count": 2,
   "metadata": {},
   "outputs": [
    {
     "name": "stdout",
     "output_type": "stream",
     "text": [
      "True\n"
     ]
    }
   ],
   "source": [
    "pattern='^[+][9][1][6-9][0-9]{9}$'  #Indian Mobile Numbers\n",
    "test_string='+919052649980'\n",
    "if(re.match(pattern,test_string)):\n",
    "   print(\"True\")\n",
    "else:\n",
    "   print(\"False\")"
   ]
  },
  {
   "cell_type": "code",
   "execution_count": 1,
   "metadata": {},
   "outputs": [
    {
     "name": "stdout",
     "output_type": "stream",
     "text": [
      "True\n"
     ]
    }
   ],
   "source": [
    "import re\n",
    "pattern = '^[a-z][a-z0-9_-]{3,15}$'\n",
    "username = 'arshad_123'\n",
    "if(re.match(pattern, username)):\n",
    "    print(\"True\")\n",
    "else:\n",
    "    print(\"False\")"
   ]
  },
  {
   "cell_type": "code",
   "execution_count": 6,
   "metadata": {},
   "outputs": [
    {
     "name": "stdout",
     "output_type": "stream",
     "text": [
      "True\n"
     ]
    }
   ],
   "source": [
    "p='^[a-z][0-9a-z-_.]{4,13}[0-9a-z][@][0-9a-z]{3,9}[.][a-z]{2,3}'\n",
    "u='arshad@gmail.com'\n",
    "if(re.match(p,u)):\n",
    "    print(\"True\")\n",
    "else:\n",
    "    print(\"False\")"
   ]
  },
  {
   "cell_type": "code",
   "execution_count": 7,
   "metadata": {},
   "outputs": [
    {
     "name": "stdout",
     "output_type": "stream",
     "text": [
      "True\n"
     ]
    }
   ],
   "source": [
    "pattern='^[{6-21}'\n",
    "password='arshad'\n",
    "if(re.match(p,u)):\n",
    "    print(\"True\")\n",
    "else:\n",
    "    print(\"False\")"
   ]
  },
  {
   "cell_type": "markdown",
   "metadata": {},
   "source": [
    "## Iterators"
   ]
  },
  {
   "cell_type": "code",
   "execution_count": 28,
   "metadata": {},
   "outputs": [
    {
     "name": "stdout",
     "output_type": "stream",
     "text": [
      "<class 'list'>\n",
      "<class 'list_iterator'>\n",
      "1\n",
      "2\n",
      "3\n",
      "4\n",
      "5\n",
      "6\n"
     ]
    }
   ],
   "source": [
    "li=[1,2,3,4,5,6]\n",
    "print(type(li))\n",
    "it=iter(li)\n",
    "print(type(it))\n",
    "for i in it:\n",
    "    print(i)\n",
    "#next(it)\n",
    "#next(it)\n",
    "#next(it)\n",
    "for i in it:\n",
    "    print(i)"
   ]
  },
  {
   "cell_type": "markdown",
   "metadata": {},
   "source": [
    "## Generators in Python"
   ]
  },
  {
   "cell_type": "code",
   "execution_count": 36,
   "metadata": {},
   "outputs": [
    {
     "name": "stdout",
     "output_type": "stream",
     "text": [
      "1\n",
      "4\n",
      "9\n",
      "16\n",
      "25\n",
      "36\n",
      "49\n",
      "64\n",
      "81\n",
      "100\n"
     ]
    }
   ],
   "source": [
    "li=[i**2 for i in range(1,11)]\n",
    "li\n",
    "gen=(i**2 for i in range(1,11))\n",
    "for i in gen:\n",
    "    print(i)"
   ]
  },
  {
   "cell_type": "code",
   "execution_count": null,
   "metadata": {},
   "outputs": [],
   "source": []
  }
 ],
 "metadata": {
  "kernelspec": {
   "display_name": "Python 3",
   "language": "python",
   "name": "python3"
  },
  "language_info": {
   "codemirror_mode": {
    "name": "ipython",
    "version": 3
   },
   "file_extension": ".py",
   "mimetype": "text/x-python",
   "name": "python",
   "nbconvert_exporter": "python",
   "pygments_lexer": "ipython3",
   "version": "3.7.3"
  }
 },
 "nbformat": 4,
 "nbformat_minor": 2
}
