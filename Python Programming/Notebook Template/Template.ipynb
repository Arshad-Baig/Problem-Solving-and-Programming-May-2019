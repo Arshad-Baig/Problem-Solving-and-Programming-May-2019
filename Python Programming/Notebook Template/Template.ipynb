{
 "cells": [
  {
   "cell_type": "markdown",
   "metadata": {},
   "source": [
    "##Problem Solving and Programing\n",
    "\n",
    "###Arshad\n",
    "###Day 10\n",
    "###Date : 8-MAY-2019"
   ]
  },
  {
   "cell_type": "markdown",
   "metadata": {},
   "source": [
    "###Day Objectives\n",
    "1. Objective 1\n",
    "2. Objective 2\n",
    "3. Objective 3"
   ]
  },
  {
   "cell_type": "markdown",
   "metadata": {},
   "source": [
    "###Problem 1\n",
    "####Problem Statement:\n",
    "\n",
    "####Constraints:\n",
    "\n",
    "####Test Cases:\n",
    "* Test Case 1\n",
    "* Test case 2\n",
    "* Test case 3\n"
   ]
  }
 ],
 "metadata": {
  "kernelspec": {
   "display_name": "Python 3",
   "language": "python",
   "name": "python3"
  },
  "language_info": {
   "codemirror_mode": {
    "name": "ipython",
    "version": 3
   },
   "file_extension": ".py",
   "mimetype": "text/x-python",
   "name": "python",
   "nbconvert_exporter": "python",
   "pygments_lexer": "ipython3",
   "version": "3.7.3"
  }
 },
 "nbformat": 4,
 "nbformat_minor": 2
}
