{
 "cells": [
  {
   "cell_type": "markdown",
   "metadata": {},
   "source": [
    "##Problem Solving and Programing\n",
    "\n",
    "###Arshad\n",
    "###Day 10\n",
    "###Date : 8-MAY-2019"
   ]
  },
  {
   "cell_type": "markdown",
   "metadata": {},
   "source": [
    "###Day Objectives\n",
    "1. Objective 1\n",
    "2. Objective 2\n",
    "3. Objective 3"
   ]
  },
  {
   "cell_type": "markdown",
   "metadata": {},
   "source": [
    "###Problem 1\n",
    "####Problem Statement:\n",
    "For a given number,define a function to check if it is divisible by 2 and 3 but not 4\n",
    "\n",
    "####Constraints:\n",
    "Given number will be in the range[1,1000000000]\n",
    "\n",
    "####Test Cases:\n",
    "* checkDivisibility(6)-> True\n",
    "* checkDivisibility(16)->False\n",
    "* checkDivisibility(20)->False\n"
   ]
  },
  {
   "cell_type": "code",
   "execution_count": 5,
   "metadata": {},
   "outputs": [
    {
     "data": {
      "text/plain": [
       "True"
      ]
     },
     "execution_count": 5,
     "metadata": {},
     "output_type": "execute_result"
    }
   ],
   "source": [
    "def checkDivisibility(n):\n",
    "    if(n%2==0 and n%3==0 and n%4!=0):\n",
    "        return True\n",
    "    else:\n",
    "        return False\n",
    "checkDivisibility(6)"
   ]
  }
 ],
 "metadata": {
  "kernelspec": {
   "display_name": "Python 3",
   "language": "python",
   "name": "python3"
  },
  "language_info": {
   "codemirror_mode": {
    "name": "ipython",
    "version": 3
   },
   "file_extension": ".py",
   "mimetype": "text/x-python",
   "name": "python",
   "nbconvert_exporter": "python",
   "pygments_lexer": "ipython3",
   "version": "3.7.3"
  }
 },
 "nbformat": 4,
 "nbformat_minor": 2
}
